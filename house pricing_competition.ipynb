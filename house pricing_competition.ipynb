{
 "cells": [
  {
   "cell_type": "code",
   "execution_count": 211,
   "id": "e9c79f4f-5837-4b96-966d-070da7933aa1",
   "metadata": {},
   "outputs": [],
   "source": [
    "import numpy as np\n",
    "import pandas as pd\n",
    "import matplotlib.pyplot as plt\n",
    "from sklearn.impute import KNNImputer\n",
    "from sklearn.preprocessing import StandardScaler\n",
    "from sklearn.model_selection import train_test_split\n",
    "from sklearn.ensemble import RandomForestRegressor\n",
    "from sklearn.metrics import r2_score,mean_squared_error , mean_absolute_error"
   ]
  },
  {
   "cell_type": "code",
   "execution_count": 212,
   "id": "e0ef8e32-925c-4abb-b9be-c01b266f36d8",
   "metadata": {},
   "outputs": [
    {
     "name": "stderr",
     "output_type": "stream",
     "text": [
      "C:\\Users\\Ismat\\AppData\\Local\\Temp\\ipykernel_23080\\292315350.py:19: FutureWarning: The frame.append method is deprecated and will be removed from pandas in a future version. Use pandas.concat instead.\n",
      "  combined = train.append(test)\n"
     ]
    }
   ],
   "source": [
    "def get_data():\n",
    "    #get train data\n",
    "    train_data_path ='train.csv'\n",
    "    train = pd.read_csv(r'C:\\Users\\Ismat\\OneDrive\\Рабочий стол\\document\\etc\\lesson_course\\projects\\house pricing_for kaggle\\train.csv')\n",
    "    \n",
    "    #get test data\n",
    "    test_data_path =r'C:\\Users\\Ismat\\OneDrive\\Рабочий стол\\document\\etc\\lesson_course\\projects\\house pricing_for kaggle\\test.csv'\n",
    "    test = pd.read_csv(test_data_path)\n",
    "    \n",
    "    return train , test\n",
    "\n",
    "def get_combined_data():\n",
    "    #reading train data\n",
    "    train , test = get_data()\n",
    "\n",
    "    target = train.SalePrice\n",
    "    train.drop(['SalePrice'],axis = 1 , inplace = True)\n",
    "\n",
    "    combined = train.append(test)\n",
    "    combined.reset_index(inplace=True)\n",
    "    combined.drop(['index', 'Id'], inplace=True, axis=1)\n",
    "    return combined, target\n",
    "\n",
    "#Load train and test data into pandas DataFrames\n",
    "train_data, test_data = get_data()\n",
    "\n",
    "#Combine train and test data to process them together\n",
    "combined, target = get_combined_data()"
   ]
  },
  {
   "cell_type": "code",
   "execution_count": 208,
   "id": "fd59a0fc-de2e-48e0-8e29-a571ee1c957b",
   "metadata": {},
   "outputs": [],
   "source": [
    "# dummy variables\n",
    "dummy_data=pd.get_dummies(combined,drop_first=True)\n",
    "# imputation\n",
    "imputer = KNNImputer()\n",
    "null_imputed=imputer.fit_transform(dummy_data)\n",
    "null_imputed=pd.DataFrame(null_imputed)"
   ]
  },
  {
   "cell_type": "code",
   "execution_count": 213,
   "id": "a0961516-c557-4e4c-a721-263344158710",
   "metadata": {},
   "outputs": [],
   "source": [
    "def split_combined():\n",
    "    global combined\n",
    "    train = null_imputed[:1460]\n",
    "    test = null_imputed[1460:]\n",
    "\n",
    "    return train , test \n",
    "  \n",
    "train, test = split_combined()"
   ]
  },
  {
   "cell_type": "code",
   "execution_count": 214,
   "id": "9247f633-9eb3-4994-ba0a-0ab270fa9744",
   "metadata": {},
   "outputs": [
    {
     "data": {
      "text/html": [
       "<div>\n",
       "<style scoped>\n",
       "    .dataframe tbody tr th:only-of-type {\n",
       "        vertical-align: middle;\n",
       "    }\n",
       "\n",
       "    .dataframe tbody tr th {\n",
       "        vertical-align: top;\n",
       "    }\n",
       "\n",
       "    .dataframe thead th {\n",
       "        text-align: right;\n",
       "    }\n",
       "</style>\n",
       "<table border=\"1\" class=\"dataframe\">\n",
       "  <thead>\n",
       "    <tr style=\"text-align: right;\">\n",
       "      <th></th>\n",
       "      <th>r2_score</th>\n",
       "      <th>mean_squared_error</th>\n",
       "      <th>mean_absolute_error</th>\n",
       "    </tr>\n",
       "  </thead>\n",
       "  <tbody>\n",
       "    <tr>\n",
       "      <th>0</th>\n",
       "      <td>83.54</td>\n",
       "      <td>33433.23288</td>\n",
       "      <td>18881.516895</td>\n",
       "    </tr>\n",
       "  </tbody>\n",
       "</table>\n",
       "</div>"
      ],
      "text/plain": [
       "   r2_score  mean_squared_error  mean_absolute_error\n",
       "0     83.54         33433.23288         18881.516895"
      ]
     },
     "execution_count": 214,
     "metadata": {},
     "output_type": "execute_result"
    }
   ],
   "source": [
    "# splitting data\n",
    "X = train\n",
    "y = target\n",
    "X_train, X_test, y_train, y_test = train_test_split(X, y, test_size = 0.3, random_state = 0)\n",
    "# scaling data\n",
    "sc = StandardScaler()\n",
    "X_train = sc.fit_transform(X_train)\n",
    "X_test = sc.transform(X_test)\n",
    "rf_regressor = RandomForestRegressor(n_estimators = 10, random_state = 0)\n",
    "rf_regressor.fit(X_train, y_train)\n",
    "y_pred = rf_regressor.predict(X_test)\n",
    "pd.DataFrame({\n",
    "    'r2_score' : np.ravel(round(r2_score(y_test,y_pred) * 100,2)),\n",
    "    'mean_squared_error' : np.sqrt(mean_squared_error(y_test, y_pred)),\n",
    "    'mean_absolute_error' : mean_absolute_error (y_test, y_pred)\n",
    "    })"
   ]
  },
  {
   "cell_type": "code",
   "execution_count": 218,
   "id": "7bef0ff2-363c-48d6-b861-d051236da5ac",
   "metadata": {},
   "outputs": [
    {
     "data": {
      "text/html": [
       "<div>\n",
       "<style scoped>\n",
       "    .dataframe tbody tr th:only-of-type {\n",
       "        vertical-align: middle;\n",
       "    }\n",
       "\n",
       "    .dataframe tbody tr th {\n",
       "        vertical-align: top;\n",
       "    }\n",
       "\n",
       "    .dataframe thead th {\n",
       "        text-align: right;\n",
       "    }\n",
       "</style>\n",
       "<table border=\"1\" class=\"dataframe\">\n",
       "  <thead>\n",
       "    <tr style=\"text-align: right;\">\n",
       "      <th></th>\n",
       "      <th>Id</th>\n",
       "      <th>SalePrice</th>\n",
       "    </tr>\n",
       "  </thead>\n",
       "  <tbody>\n",
       "    <tr>\n",
       "      <th>0</th>\n",
       "      <td>1461</td>\n",
       "      <td>130565.0</td>\n",
       "    </tr>\n",
       "    <tr>\n",
       "      <th>1</th>\n",
       "      <td>1462</td>\n",
       "      <td>155535.0</td>\n",
       "    </tr>\n",
       "    <tr>\n",
       "      <th>2</th>\n",
       "      <td>1463</td>\n",
       "      <td>184260.0</td>\n",
       "    </tr>\n",
       "    <tr>\n",
       "      <th>3</th>\n",
       "      <td>1464</td>\n",
       "      <td>182170.0</td>\n",
       "    </tr>\n",
       "    <tr>\n",
       "      <th>4</th>\n",
       "      <td>1465</td>\n",
       "      <td>196350.0</td>\n",
       "    </tr>\n",
       "    <tr>\n",
       "      <th>...</th>\n",
       "      <td>...</td>\n",
       "      <td>...</td>\n",
       "    </tr>\n",
       "    <tr>\n",
       "      <th>1454</th>\n",
       "      <td>2915</td>\n",
       "      <td>84040.0</td>\n",
       "    </tr>\n",
       "    <tr>\n",
       "      <th>1455</th>\n",
       "      <td>2916</td>\n",
       "      <td>100990.0</td>\n",
       "    </tr>\n",
       "    <tr>\n",
       "      <th>1456</th>\n",
       "      <td>2917</td>\n",
       "      <td>153940.0</td>\n",
       "    </tr>\n",
       "    <tr>\n",
       "      <th>1457</th>\n",
       "      <td>2918</td>\n",
       "      <td>121270.0</td>\n",
       "    </tr>\n",
       "    <tr>\n",
       "      <th>1458</th>\n",
       "      <td>2919</td>\n",
       "      <td>236209.0</td>\n",
       "    </tr>\n",
       "  </tbody>\n",
       "</table>\n",
       "<p>1459 rows × 2 columns</p>\n",
       "</div>"
      ],
      "text/plain": [
       "        Id  SalePrice\n",
       "0     1461   130565.0\n",
       "1     1462   155535.0\n",
       "2     1463   184260.0\n",
       "3     1464   182170.0\n",
       "4     1465   196350.0\n",
       "...    ...        ...\n",
       "1454  2915    84040.0\n",
       "1455  2916   100990.0\n",
       "1456  2917   153940.0\n",
       "1457  2918   121270.0\n",
       "1458  2919   236209.0\n",
       "\n",
       "[1459 rows x 2 columns]"
      ]
     },
     "execution_count": 218,
     "metadata": {},
     "output_type": "execute_result"
    }
   ],
   "source": [
    "# scaling\n",
    "sc= StandardScaler()\n",
    "scaled_prediction=sc.fit_transform(test)\n",
    "submission=rf_regressor.predict(scaled_prediction)\n",
    "output = pd.DataFrame({'Id': pd.read_csv(r'C:\\Users\\Ismat\\OneDrive\\Рабочий стол\\document\\etc\\lesson_course\\projects\\house pricing_for kaggle\\test.csv').Id,\n",
    "                       'SalePrice': submission})\n",
    "output.to_csv('RF_house_price.csv', index=False)\n",
    "output"
   ]
  },
  {
   "cell_type": "code",
   "execution_count": 219,
   "id": "09070928-d471-46e0-8033-9001ab18851d",
   "metadata": {},
   "outputs": [],
   "source": []
  },
  {
   "cell_type": "code",
   "execution_count": null,
   "id": "da78b47f-d5ea-4ed0-8dd8-ec086d94dbc7",
   "metadata": {},
   "outputs": [],
   "source": []
  },
  {
   "cell_type": "code",
   "execution_count": null,
   "id": "a80f489f-3869-4352-9c85-f0ad14662cac",
   "metadata": {},
   "outputs": [],
   "source": [
    "# test_data=pd.read_csv(r'C:\\Users\\Ismat\\OneDrive\\Рабочий стол\\document\\etc\\lesson_course\\projects\\house pricing_for kaggle\\test.csv')\n",
    "# train_data=pd.read_csv(r'C:\\Users\\Ismat\\OneDrive\\Рабочий стол\\document\\etc\\lesson_course\\projects\\house pricing_for kaggle\\train.csv')"
   ]
  },
  {
   "cell_type": "code",
   "execution_count": 184,
   "id": "359ed400-8513-4360-b409-e27109cc9185",
   "metadata": {},
   "outputs": [
    {
     "data": {
      "text/html": [
       "<div>\n",
       "<style scoped>\n",
       "    .dataframe tbody tr th:only-of-type {\n",
       "        vertical-align: middle;\n",
       "    }\n",
       "\n",
       "    .dataframe tbody tr th {\n",
       "        vertical-align: top;\n",
       "    }\n",
       "\n",
       "    .dataframe thead th {\n",
       "        text-align: right;\n",
       "    }\n",
       "</style>\n",
       "<table border=\"1\" class=\"dataframe\">\n",
       "  <thead>\n",
       "    <tr style=\"text-align: right;\">\n",
       "      <th></th>\n",
       "      <th>r2_score</th>\n",
       "      <th>mean_squared_error</th>\n",
       "      <th>mean_absolute_error</th>\n",
       "    </tr>\n",
       "  </thead>\n",
       "  <tbody>\n",
       "    <tr>\n",
       "      <th>0</th>\n",
       "      <td>85.13</td>\n",
       "      <td>31773.864322</td>\n",
       "      <td>18771.487671</td>\n",
       "    </tr>\n",
       "  </tbody>\n",
       "</table>\n",
       "</div>"
      ],
      "text/plain": [
       "   r2_score  mean_squared_error  mean_absolute_error\n",
       "0     85.13        31773.864322         18771.487671"
      ]
     },
     "execution_count": 184,
     "metadata": {},
     "output_type": "execute_result"
    }
   ],
   "source": [
    "# # importing data\n",
    "# data=train_data.drop('SalePrice',axis=1)\n",
    "# # dummy variables\n",
    "# train_set_featured=pd.get_dummies(data,drop_first=True)\n",
    "# # imputation\n",
    "# imputer = KNNImputer()\n",
    "# train_imputed=imputer.fit_transform(train_set_featured)\n",
    "# train_imputed=pd.DataFrame(train_imputed)\n",
    "# # splitting data\n",
    "# X = train_imputed\n",
    "# y = train_data['SalePrice']\n",
    "# X_train, X_test, y_train, y_test = train_test_split(X, y, test_size = 0.3, random_state = 0)\n",
    "# # scaling data\n",
    "# sc = StandardScaler()\n",
    "# X_train = sc.fit_transform(X_train)\n",
    "# X_test = sc.transform(X_test)\n",
    "# rf_regressor = RandomForestRegressor(n_estimators = 10, random_state = 0)\n",
    "# rf_regressor.fit(X_train, y_train)\n",
    "# y_pred = rf_regressor.predict(X_test)\n",
    "# pd.DataFrame({\n",
    "#     'r2_score' : np.ravel(round(r2_score(y_test,y_pred) * 100,2)),\n",
    "#     'mean_squared_error' : np.sqrt(mean_squared_error(y_test, y_pred)),\n",
    "#     'mean_absolute_error' : mean_absolute_error (y_test, y_pred)\n",
    "#     })"
   ]
  },
  {
   "cell_type": "markdown",
   "id": "3e4e34e9-23eb-48c6-8163-5255a956bf11",
   "metadata": {},
   "source": [
    "## test data"
   ]
  },
  {
   "cell_type": "code",
   "execution_count": 163,
   "id": "b33ca27b-dd5f-4c42-8a72-5445d4bea4b5",
   "metadata": {},
   "outputs": [],
   "source": [
    "# # importing data\n",
    "# test_data=pd.read_csv(r'C:\\Users\\Ismat\\OneDrive\\Рабочий стол\\document\\etc\\lesson_course\\projects\\house pricing_for kaggle\\test.csv')\n",
    "# # dummy variables\n",
    "# test_set_featured=pd.get_dummies(test_data,drop_first=True)\n",
    "# # imputation\n",
    "# imputer = KNNImputer()\n",
    "# test_imputed=imputer.fit_transform(test_set_featured)\n",
    "# test_imputed=pd.DataFrame(test_imputed)\n",
    "# # scaling\n",
    "# sc= StandardScaler()\n",
    "# scaled_prediction=sc.fit_transform(test_imputed)"
   ]
  },
  {
   "cell_type": "code",
   "execution_count": 165,
   "id": "c363fb21-d9a4-4b1f-bff0-0657921791e0",
   "metadata": {},
   "outputs": [],
   "source": [
    "# rf_regressor.predict(scaled_prediction)\n",
    "\n",
    "# # output = pd.DataFrame({'Id': test_data.Id, 'SalePrice': submission})"
   ]
  },
  {
   "cell_type": "code",
   "execution_count": null,
   "id": "6db7af99-3914-4ec0-a884-e1039a1da628",
   "metadata": {},
   "outputs": [],
   "source": []
  },
  {
   "cell_type": "code",
   "execution_count": null,
   "id": "f7ef9d62-bad8-493a-9618-1d9169fe5dc4",
   "metadata": {},
   "outputs": [],
   "source": []
  },
  {
   "cell_type": "code",
   "execution_count": null,
   "id": "4ae319a9-0514-46ba-90ba-7f291c0d39b0",
   "metadata": {},
   "outputs": [],
   "source": []
  },
  {
   "cell_type": "code",
   "execution_count": null,
   "id": "4ee83c1f-0414-49da-926c-e45a816ef12f",
   "metadata": {},
   "outputs": [],
   "source": []
  },
  {
   "cell_type": "code",
   "execution_count": null,
   "id": "53d48c78-38ed-41b8-a2c5-993a83d9faae",
   "metadata": {},
   "outputs": [],
   "source": []
  },
  {
   "cell_type": "code",
   "execution_count": null,
   "id": "3b6cf8f1-650b-4fd4-92c7-f1c6bc9b9642",
   "metadata": {},
   "outputs": [],
   "source": []
  },
  {
   "cell_type": "code",
   "execution_count": null,
   "id": "11acd8ee-7037-4e1f-a5f3-1c062c61b84d",
   "metadata": {},
   "outputs": [],
   "source": []
  },
  {
   "cell_type": "code",
   "execution_count": null,
   "id": "22c4509c-ec82-4f54-9d3e-5955168eb30c",
   "metadata": {},
   "outputs": [],
   "source": []
  },
  {
   "cell_type": "code",
   "execution_count": null,
   "id": "5c5f8102-3a0a-46ee-bcc3-2e732f928e91",
   "metadata": {},
   "outputs": [],
   "source": []
  },
  {
   "cell_type": "code",
   "execution_count": null,
   "id": "59d077f6-7432-4711-948b-7b143524f012",
   "metadata": {},
   "outputs": [],
   "source": []
  },
  {
   "cell_type": "code",
   "execution_count": null,
   "id": "aa58e5f2-6ba4-4771-a3cd-9ba5bd70db2e",
   "metadata": {},
   "outputs": [],
   "source": []
  },
  {
   "cell_type": "code",
   "execution_count": null,
   "id": "fce02ece-d3ce-4130-883f-9be9254309cf",
   "metadata": {},
   "outputs": [],
   "source": []
  },
  {
   "cell_type": "code",
   "execution_count": null,
   "id": "5773d046-49f2-4409-812b-62a476cde4f3",
   "metadata": {},
   "outputs": [],
   "source": []
  },
  {
   "cell_type": "code",
   "execution_count": null,
   "id": "e20f8c7a-6835-47a3-807c-f1e08aef0d9a",
   "metadata": {},
   "outputs": [],
   "source": []
  },
  {
   "cell_type": "code",
   "execution_count": null,
   "id": "d44f8a00-9afe-46ec-9f66-d7d881effd1d",
   "metadata": {},
   "outputs": [],
   "source": []
  },
  {
   "cell_type": "code",
   "execution_count": null,
   "id": "482d8445-b59e-408d-9d05-462196420eed",
   "metadata": {},
   "outputs": [],
   "source": []
  },
  {
   "cell_type": "code",
   "execution_count": null,
   "id": "dfb9035a-9a2b-4425-bb71-6efb0b36c61c",
   "metadata": {},
   "outputs": [],
   "source": []
  },
  {
   "cell_type": "code",
   "execution_count": null,
   "id": "b5541c31-76a9-49eb-9e36-d29a29885521",
   "metadata": {},
   "outputs": [],
   "source": []
  },
  {
   "cell_type": "code",
   "execution_count": null,
   "id": "2aa56a57-6d0d-48e2-8b48-bad13945fcdb",
   "metadata": {},
   "outputs": [],
   "source": []
  }
 ],
 "metadata": {
  "kernelspec": {
   "display_name": "Python 3 (ipykernel)",
   "language": "python",
   "name": "python3"
  },
  "language_info": {
   "codemirror_mode": {
    "name": "ipython",
    "version": 3
   },
   "file_extension": ".py",
   "mimetype": "text/x-python",
   "name": "python",
   "nbconvert_exporter": "python",
   "pygments_lexer": "ipython3",
   "version": "3.9.7"
  }
 },
 "nbformat": 4,
 "nbformat_minor": 5
}
